{
  "cells": [
    {
      "cell_type": "markdown",
      "id": "1ae4bd1d",
      "metadata": {
        "id": "1ae4bd1d"
      },
      "source": [
        "\n",
        "# Assignment 3: Gradebook & Log Analyzer\n",
        "\n",
        "**Covers:** Conditionals & Loops • File I/O • Dictionaries, Tuples & Methods  \n",
        "**Estimated time:** ~2–3 hours\n",
        "\n",
        "## Learning outcomes\n",
        "By completing this assignment, you will be able to:\n",
        "1. Use conditionals and loops to implement program logic.\n",
        "2. Read from and write to text/CSV files safely.\n",
        "3. Model data with dictionaries and tuples; use built-in methods effectively.\n",
        "4. Build a small, menu-driven CLI program that ties everything together.\n"
      ]
    },
    {
      "cell_type": "markdown",
      "id": "a2c9c4a5",
      "metadata": {
        "id": "a2c9c4a5"
      },
      "source": [
        "\n",
        "## Instructions\n",
        "- Work in this notebook. Replace each `# TODO` with your code.\n",
        "- Do **not** change the function names or signatures unless asked.\n",
        "- Run the provided tests (asserts) to self-check. Passing tests ≠ perfect score.\n",
        "- When you finish, **restart & run all** to ensure it executes cleanly top-to-bottom.\n",
        "- Submit the exported `.ipynb` (and any generated `.txt`/`.csv` files)."
      ]
    },
    {
      "cell_type": "code",
      "execution_count": null,
      "id": "59196202",
      "metadata": {
        "id": "59196202"
      },
      "outputs": [],
      "source": [
        "\n",
        "# --- Setup: create tiny sample datasets (run once) ---\n",
        "from pathlib import Path\n",
        "import csv\n",
        "\n",
        "data_dir = Path(\"data\")\n",
        "data_dir.mkdir(exist_ok=True)\n",
        "\n",
        "# Sample scores.csv: student_id,name,quiz1,quiz2,quiz3\n",
        "scores_path = data_dir / \"scores.csv\"\n",
        "if not scores_path.exists():\n",
        "    with scores_path.open(\"w\", newline=\"\") as f:\n",
        "        writer = csv.writer(f)\n",
        "        writer.writerow([\"student_id\", \"name\", \"quiz1\", \"quiz2\", \"quiz3\"])\n",
        "        writer.writerows([\n",
        "            [\"S001\", \"Aye\", 8, 9, 10],\n",
        "            [\"S002\", \"Khin\", 7, 6, 9],\n",
        "            [\"S003\", \"Ryan\", 10, 10, 9],\n",
        "            [\"S004\", \"Hugo\", 5, 7, 6],\n",
        "            [\"S005\", \"Thiri\", 9, 8, 8],\n",
        "        ])\n",
        "\n",
        "# Sample access.log: username,action,timestamp (ISO-like, simplified)\n",
        "log_path = data_dir / \"access.log\"\n",
        "if not log_path.exists():\n",
        "    log_path.write_text(\n",
        "        \"aye,login,2025-08-01T09:00\\n\"\n",
        "        \"aye,submit,2025-08-01T09:10\\n\"\n",
        "        \"khin,login,2025-08-01T09:05\\n\"\n",
        "        \"ryan,login,2025-08-01T09:07\\n\"\n",
        "        \"ryan,download,2025-08-01T09:20\\n\"\n",
        "        \"ryan,submit,2025-08-01T09:35\\n\"\n",
        "        \"hugo,login,2025-08-01T09:40\\n\"\n",
        "        \"thiri,login,2025-08-01T09:41\\n\"\n",
        "        \"aye,download,2025-08-01T09:50\\n\"\n",
        "    )\n",
        "print(\"Sample data ready at:\", data_dir.resolve())\n"
      ]
    },
    {
      "cell_type": "markdown",
      "id": "7ca99e22",
      "metadata": {
        "id": "7ca99e22"
      },
      "source": [
        "\n",
        "---\n",
        "## Part A — Warm‑ups (Conditionals, Loops, Tuples)\n",
        "\n",
        "### A1. `letter_grade(avg)`\n",
        "Write a function that converts a numeric average (0–10) to a letter grade:\n",
        "- `>= 9.0` → **A**\n",
        "- `>= 8.0` → **B**\n",
        "- `>= 7.0` → **C**\n",
        "- `>= 6.0` → **D**\n",
        "- else → **F**\n",
        "\n",
        "Edge cases: floor to one decimal place before comparing (e.g., `8.96 → 8.9`).\n",
        "\n",
        "### A2. `count_vowels(s)`\n",
        "Return a dictionary mapping vowel → count for the string `s`. Treat `'aeiou'` as vowels and ignore case.\n",
        "\n",
        "### A3. `rotate_tuple(t)`\n",
        "Given a non-empty tuple `t`, return a **new** tuple where the last element moves to the front. Example: `(1,2,3) → (3,1,2)`.\n"
      ]
    },
    {
      "cell_type": "code",
      "execution_count": 7,
      "id": "4cfb1cd1",
      "metadata": {
        "id": "4cfb1cd1"
      },
      "outputs": [
        {
          "data": {
            "text/plain": [
              "'A'"
            ]
          },
          "execution_count": 7,
          "metadata": {},
          "output_type": "execute_result"
        }
      ],
      "source": [
        "# TODO: A1\n",
        "def letter_grade(avg: float) -> str:\n",
        "    # Floor to one decimal place\n",
        "    floored = float(f\"{avg:.1f}\")\n",
        "    if floored >= 9.0:\n",
        "        return \"A\"\n",
        "    elif floored >= 8.0:\n",
        "        return \"B\"\n",
        "    elif floored >= 7.0:\n",
        "        return \"C\"\n",
        "    elif floored >= 6.0:\n",
        "        return \"D\"\n",
        "    else:\n",
        "        return \"F\"\n",
        "    \n",
        "letter_grade(9.0)\n"
      ]
    },
    {
      "cell_type": "code",
      "execution_count": 8,
      "id": "37ab606d",
      "metadata": {
        "id": "37ab606d"
      },
      "outputs": [
        {
          "data": {
            "text/plain": [
              "{'a': 1, 'e': 0, 'i': 0, 'o': 0, 'u': 1}"
            ]
          },
          "execution_count": 8,
          "metadata": {},
          "output_type": "execute_result"
        }
      ],
      "source": [
        "# TODO: A2\n",
        "def count_vowels(s: str) -> dict:\n",
        "    vowels = 'aeiou'\n",
        "    s_lower = s.lower()\n",
        "    result = {v: 0 for v in vowels}\n",
        "    for char in s_lower:\n",
        "        if char in vowels:\n",
        "            result[char] += 1\n",
        "    return result\n",
        "count_vowels(\"juntra\")"
      ]
    },
    {
      "cell_type": "code",
      "execution_count": 10,
      "id": "19d06e13",
      "metadata": {
        "id": "19d06e13"
      },
      "outputs": [
        {
          "data": {
            "text/plain": [
              "('d', 'g', 'h', 'c')"
            ]
          },
          "execution_count": 10,
          "metadata": {},
          "output_type": "execute_result"
        }
      ],
      "source": [
        "\n",
        "# TODO: A3\n",
        "def rotate_tuple(t: tuple) -> tuple:\n",
        "    if len(t) == 1:\n",
        "        return t\n",
        "    return (t[-1],) + t[:-1]\n",
        "\n",
        "rotate_tuple((\"g\", \"h\", \"c\", \"d\"))  # ('d', 'a', 'b', 'c')"
      ]
    },
    {
      "cell_type": "code",
      "execution_count": 2,
      "id": "a63d5ba8",
      "metadata": {
        "id": "a63d5ba8"
      },
      "outputs": [
        {
          "data": {
            "text/plain": [
              "'\\nassert count_vowels(\"Aye\") == {\\'a\\': 1, \\'e\\': 1}\\nassert count_vowels(\"Beautiful day\") == {\\'a\\': 2, \\'e\\': 1, \\'i\\': 1, \\'o\\': 0, \\'u\\': 2} or        sum(count_vowels(\"Beautiful day\").values()) == 6  # lenient check\\n\\nassert rotate_tuple((1,2,3)) == (3,1,2)\\nassert rotate_tuple((\"a\",)) == (\"a\",)\\nprint(\"Part A tests passed (if no AssertionError).\")\\n\\n'"
            ]
          },
          "execution_count": 2,
          "metadata": {},
          "output_type": "execute_result"
        }
      ],
      "source": [
        "\n",
        "# --- Tests for Part A ---\n",
        "assert letter_grade(9.0) == \"A\"\n",
        "assert letter_grade(6.0) == \"D\"\n",
        "assert letter_grade(5.0) == \"F\"\n",
        "\n",
        "'''\n",
        "assert count_vowels(\"Aye\") == {'a': 1, 'e': 1}\n",
        "assert count_vowels(\"Beautiful day\") == {'a': 2, 'e': 1, 'i': 1, 'o': 0, 'u': 2} or        sum(count_vowels(\"Beautiful day\").values()) == 6  # lenient check\n",
        "\n",
        "assert rotate_tuple((1,2,3)) == (3,1,2)\n",
        "assert rotate_tuple((\"a\",)) == (\"a\",)\n",
        "print(\"Part A tests passed (if no AssertionError).\")\n",
        "\n",
        "'''"
      ]
    },
    {
      "cell_type": "markdown",
      "id": "b0e53b63",
      "metadata": {
        "id": "b0e53b63"
      },
      "source": [
        "\n",
        "---\n",
        "## Part B — Gradebook (Files, Dicts, Methods)\n",
        "\n",
        "You are given `data/scores.csv` with columns: `student_id,name,quiz1,quiz2,quiz3`.\n",
        "\n",
        "### B1. `read_scores_csv(path)`\n",
        "Read the CSV and return a list of dictionaries, one per student. Convert quiz scores to `int`.\n",
        "\n",
        "### B2. `compute_averages(records)`\n",
        "Given the list from B1, return a **new** list where each dict has added keys:\n",
        "- `\"avg\"`: average of quizzes (float)\n",
        "- `\"grade\"`: result of `letter_grade(avg)`\n",
        "\n",
        "### B3. `write_report(records, out_path=\"report.txt\")`\n",
        "Write a simple text report with one line per student:\n",
        "`S001 Aye -> avg=9.0 grade=A`\n",
        "\n",
        "**Note:** Use `with open(...)` to handle files safely.\n"
      ]
    },
    {
      "cell_type": "code",
      "execution_count": 13,
      "id": "cd186af4",
      "metadata": {
        "id": "cd186af4"
      },
      "outputs": [],
      "source": [
        "\n",
        "# TODO: B1\n",
        "import csv\n",
        "\n",
        "def read_scores_csv(path: str) -> list[dict]:\n",
        "    records = []\n",
        "    with open(path, newline='') as f:\n",
        "        reader = csv.DictReader(f)\n",
        "        for row in reader:\n",
        "            # Convert quiz scores to int\n",
        "            row['quiz1'] = int(row['quiz1'])\n",
        "            row['quiz2'] = int(row['quiz2'])\n",
        "            row['quiz3'] = int(row['quiz3'])\n",
        "            records.append(row)\n",
        "    return records\n",
        "\n",
        "# Example usage:\n",
        "# print(read_scores_csv(\"data/scores.csv\"))\n"
      ]
    },
    {
      "cell_type": "code",
      "execution_count": 14,
      "id": "5da7322f",
      "metadata": {
        "id": "5da7322f"
      },
      "outputs": [],
      "source": [
        "# TODO: B2\n",
        "def compute_averages(records: list[dict]) -> list[dict]:\n",
        "    new_records = []\n",
        "    for r in records:\n",
        "        avg = (r['quiz1'] + r['quiz2'] + r['quiz3']) / 3\n",
        "        grade = letter_grade(avg)\n",
        "        new_r = r.copy()\n",
        "        new_r['avg'] = float(f\"{avg:.1f}\")\n",
        "        new_r['grade'] = grade\n",
        "        new_records.append(new_r)\n",
        "    return new_records\n"
      ]
    },
    {
      "cell_type": "code",
      "execution_count": 15,
      "id": "2b9017e0",
      "metadata": {
        "id": "2b9017e0"
      },
      "outputs": [],
      "source": [
        "\n",
        "# TODO: B3\n",
        "from pathlib import Path\n",
        "\n",
        "def write_report(records: list[dict], out_path: str = \"report.txt\") -> None:\n",
        "    with open(out_path, \"w\", encoding=\"utf-8\") as f:\n",
        "        for r in records:\n",
        "            line = f\"{r['student_id']} {r['name']} -> avg={r['avg']} grade={r['grade']}\\n\"\n",
        "            f.write(line)"
      ]
    },
    {
      "cell_type": "code",
      "execution_count": null,
      "id": "3e6b0d46",
      "metadata": {
        "id": "3e6b0d46"
      },
      "outputs": [],
      "source": [
        "\n",
        "# --- Tests for Part B ---\n",
        "recs = read_scores_csv(\"data/scores.csv\")\n",
        "assert isinstance(recs, list) and len(recs) >= 5\n",
        "assert all(isinstance(r, dict) for r in recs)\n",
        "assert set(recs[0].keys()) >= {\"student_id\",\"name\",\"quiz1\",\"quiz2\",\"quiz3\"}\n",
        "assert all(isinstance(r[\"quiz1\"], int) for r in recs)\n",
        "\n",
        "recs2 = compute_averages(recs)\n",
        "assert \"avg\" in recs2[0] and \"grade\" in recs2[0]\n",
        "\n",
        "out_file = \"report.txt\"\n",
        "write_report(recs2, out_file)\n",
        "p = Path(out_file)\n",
        "assert p.exists() and p.stat().st_size > 0\n",
        "print(\"Part B tests passed (if no AssertionError).\")\n"
      ]
    },
    {
      "cell_type": "markdown",
      "id": "d12324c7",
      "metadata": {
        "id": "d12324c7"
      },
      "source": [
        "\n",
        "---\n",
        "## Part C — Simple Log Analysis (Files, Dicts)\n",
        "\n",
        "You are given `data/access.log` with lines: `username,action,timestamp`.\n",
        "\n",
        "### C1. `parse_log(path)`\n",
        "Return a list of tuples `(username, action, timestamp_str)`.\n",
        "\n",
        "### C2. `action_counts(parsed)`\n",
        "Return a dict `{action: count}` across all lines.\n",
        "\n",
        "### C3. `most_active_user(parsed)`\n",
        "Return a tuple `(username, count)` for the user with the most actions. Break ties by lexicographic username (smallest first).\n"
      ]
    },
    {
      "cell_type": "code",
      "execution_count": 19,
      "id": "54497687",
      "metadata": {
        "id": "54497687"
      },
      "outputs": [],
      "source": [
        "# TODO: C1\n",
        "def parse_log(path: str) -> list[tuple]:\n",
        "    result = []\n",
        "    with open(path, \"r\", encoding=\"utf-8\") as f:\n",
        "        for line in f:\n",
        "            parts = line.strip().split(\",\")\n",
        "            if len(parts) == 3:\n",
        "                result.append(tuple(parts))\n",
        "    return result"
      ]
    },
    {
      "cell_type": "code",
      "execution_count": 20,
      "id": "4aa5704e",
      "metadata": {
        "id": "4aa5704e"
      },
      "outputs": [],
      "source": [
        "# TODO: C2\n",
        "def action_counts(parsed: list[tuple]) -> dict:\n",
        "    counts = {}\n",
        "    for entry in parsed:\n",
        "        action = entry[1]\n",
        "        counts[action] = counts.get(action, 0) + 1\n",
        "    return counts\n"
      ]
    },
    {
      "cell_type": "code",
      "execution_count": 22,
      "id": "172c4a39",
      "metadata": {
        "id": "172c4a39"
      },
      "outputs": [],
      "source": [
        "# TODO: C3\n",
        "def most_active_user(parsed: list[tuple]) -> tuple[str, int]:\n",
        "    user_counts = {}\n",
        "    for entry in parsed:\n",
        "        user = entry[0]\n",
        "        user_counts[user] = user_counts.get(user, 0) + 1\n",
        "    max_count = max(user_counts.values())\n",
        "    top_users = [u for u, c in user_counts.items() if c == max_count]\n",
        "    top_user = min(top_users)\n",
        "    return (top_user, max_count)"
      ]
    },
    {
      "cell_type": "code",
      "execution_count": null,
      "id": "f0c35b8c",
      "metadata": {
        "id": "f0c35b8c"
      },
      "outputs": [],
      "source": [
        "\n",
        "# --- Tests for Part C ---\n",
        "parsed = parse_log(\"data/access.log\")\n",
        "assert isinstance(parsed, list) and len(parsed) >= 5\n",
        "assert all(isinstance(t, tuple) and len(t) == 3 for t in parsed)\n",
        "\n",
        "counts = action_counts(parsed)\n",
        "assert isinstance(counts, dict) and sum(counts.values()) == len(parsed)\n",
        "\n",
        "user, cnt = most_active_user(parsed)\n",
        "assert isinstance(user, str) and isinstance(cnt, int) and cnt >= 1\n",
        "print(\"Part C tests passed (if no AssertionError).\")\n"
      ]
    },
    {
      "cell_type": "markdown",
      "id": "51d3021a",
      "metadata": {
        "id": "51d3021a"
      },
      "source": [
        "\n",
        "---\n",
        "## Part D — Menu‑Driven CLI (Loops, Conditionals, Methods)\n",
        "\n",
        "Write a loop that repeatedly shows this menu until the user chooses Quit:\n",
        "\n",
        "```\n",
        "1) Show top student(s) by average\n",
        "2) Show action counts from access.log\n",
        "3) Export a CSV of student_id,name,avg,grade to data/gradebook_out.csv\n",
        "4) Quit\n",
        "```\n",
        "\n",
        "Implement as `main()` that returns `None`. For (1), if multiple students tie for top average, print them all.\n"
      ]
    },
    {
      "cell_type": "code",
      "execution_count": 24,
      "id": "de25a7e6",
      "metadata": {
        "id": "de25a7e6"
      },
      "outputs": [],
      "source": [
        "# TODO: D — menu CLI\n",
        "import csv\n",
        "\n",
        "def main() -> None:\n",
        "    scores_path = \"data/scores.csv\"\n",
        "    log_path = \"data/access.log\"\n",
        "    gradebook_out = \"data/gradebook_out.csv\"\n",
        "\n",
        "    while True:\n",
        "        print(\"\\n1) Show top student(s) by average\")\n",
        "        print(\"2) Show action counts from access.log\")\n",
        "        print(\"3) Export a CSV of student_id,name,avg,grade to data/gradebook_out.csv\")\n",
        "        print(\"4) Quit\")\n",
        "        choice = input(\"Choose an option (1-4): \").strip()\n",
        "\n",
        "        if choice == \"1\":\n",
        "            records = compute_averages(read_scores_csv(scores_path))\n",
        "            if not records:\n",
        "                print(\"No student records found.\")\n",
        "                continue\n",
        "            max_avg = max(r[\"avg\"] for r in records)\n",
        "            top_students = [r for r in records if r[\"avg\"] == max_avg]\n",
        "            print(\"Top student(s) by average:\")\n",
        "            for r in top_students:\n",
        "                print(f\"{r['student_id']} {r['name']} -> avg={r['avg']} grade={r['grade']}\")\n",
        "        elif choice == \"2\":\n",
        "            parsed = parse_log(log_path)\n",
        "            counts = action_counts(parsed)\n",
        "            print(\"Action counts:\")\n",
        "            for action, count in counts.items():\n",
        "                print(f\"{action}: {count}\")\n",
        "        elif choice == \"3\":\n",
        "            records = compute_averages(read_scores_csv(scores_path))\n",
        "            with open(gradebook_out, \"w\", newline='', encoding=\"utf-8\") as f:\n",
        "                writer = csv.writer(f)\n",
        "                writer.writerow([\"student_id\", \"name\", \"avg\", \"grade\"])\n",
        "                for r in records:\n",
        "                    writer.writerow([r[\"student_id\"], r[\"name\"], r[\"avg\"], r[\"grade\"]])\n",
        "            print(f\"Exported gradebook to {gradebook_out}\")\n",
        "        elif choice == \"4\":\n",
        "            print(\"Goodbye!\")\n",
        "            break\n",
        "        else:\n",
        "            print(\"Invalid option. Please choose 1-4.\")\n",
        "\n",
        "# Optional: Uncomment below to run interactively in notebook\n",
        "# main()\n",
        "\n",
        "# --- IGNORE ---\n"
      ]
    },
    {
      "cell_type": "code",
      "execution_count": null,
      "id": "1fe26162",
      "metadata": {},
      "outputs": [],
      "source": [
        "wite a function to takes an integer as an input scores\n",
        "if the score is greater than or equal to 50, print \"Pass\"\n",
        "if the score is greater than or equal to 75, print \"Good\"\n",
        "if the score is exactly 100, print \"Perfect\""
      ]
    },
    {
      "cell_type": "code",
      "execution_count": 18,
      "id": "41ec82fe",
      "metadata": {},
      "outputs": [
        {
          "name": "stdout",
          "output_type": "stream",
          "text": [
            "Good\n"
          ]
        }
      ],
      "source": [
        "def check_score(score: int):\n",
        "    if score == 100:\n",
        "        print(\"Perfect\")\n",
        "    elif score >= 75:\n",
        "        print(\"Good\")\n",
        "    elif score >= 50:\n",
        "        print(\"Pass\")\n",
        "check_score(85) \n"
      ]
    },
    {
      "cell_type": "code",
      "execution_count": null,
      "id": "c54b7fa7",
      "metadata": {},
      "outputs": [],
      "source": [
        "write a program that returns the count of voetls in the string. Use a for loop to go through each character in the string.\n",
        "    \n",
        "Input ==> apple, Output ==> 2\n",
        "Input ==> hello world, Output ==> 3\n",
        "Input ==> balloon, Output ==> 3"
      ]
    },
    {
      "cell_type": "code",
      "execution_count": 28,
      "id": "a01394de",
      "metadata": {},
      "outputs": [],
      "source": [
        "def count_vowels_in_string(s: str) -> int:\n",
        "    vowels = \"aeiou\"\n",
        "    count = 0\n",
        "    for char in s.lower():\n",
        "        if char in vowels:\n",
        "            count += 1\n",
        "    return count\n"
      ]
    },
    {
      "cell_type": "markdown",
      "id": "9d5de2a7",
      "metadata": {
        "id": "9d5de2a7"
      },
      "source": [
        "\n",
        "---\n",
        "## Submission checklist\n",
        "- [ ] All TODOs completed\n",
        "- [ ] Notebook runs top-to-bottom without errors\n",
        "- [ ] `report.txt` generated\n",
        "- [ ] (Optional) `data/gradebook_out.csv` generated via menu option 3"
      ]
    }
  ],
  "metadata": {
    "colab": {
      "provenance": []
    },
    "kernelspec": {
      "display_name": "Python 3",
      "language": "python",
      "name": "python3"
    },
    "language_info": {
      "codemirror_mode": {
        "name": "ipython",
        "version": 3
      },
      "file_extension": ".py",
      "mimetype": "text/x-python",
      "name": "python",
      "nbconvert_exporter": "python",
      "pygments_lexer": "ipython3",
      "version": "3.12.6"
    }
  },
  "nbformat": 4,
  "nbformat_minor": 5
}
