{
 "cells": [
  {
   "cell_type": "code",
   "execution_count": 1,
   "id": "c8ec8c76",
   "metadata": {},
   "outputs": [],
   "source": [
    "class Person:\n",
    "    \"\"\"A class representing a person with a name and age.\"\"\"\n",
    "    def __init__(self, name, age):\n",
    "        \"\"\"\n",
    "        Initializes a Person object.\n",
    "\n",
    "        Args:\n",
    "            name (str): The name of the person.\n",
    "            age (int): The age of the person.\n",
    "        \"\"\"\n",
    "        self.name = name\n",
    "        self.age = age\n",
    "\n",
    "    def display_info(self):\n",
    "        \"\"\"Prints the name and age of the person.\"\"\"\n",
    "        print(f\"Name: {self.name}, Age: {self.age}\")"
   ]
  },
  {
   "cell_type": "code",
   "execution_count": 2,
   "id": "1fd34f82",
   "metadata": {},
   "outputs": [],
   "source": [
    "class Student(Person):\n",
    "    \"\"\"A class representing a student, inheriting from Person.\"\"\"\n",
    "    def __init__(self, name, age):\n",
    "        \"\"\"\n",
    "        Initializes a Student object.\n",
    "\n",
    "        Args:\n",
    "            name (str): The name of the student.\n",
    "            age (int): The age of the student.\n",
    "        \"\"\"\n",
    "        super().__init__(name, age)\n",
    "        self.marks = {}\n",
    "\n",
    "    def add_mark(self, subject, score):\n",
    "        \"\"\"\n",
    "        Adds or updates a subject's score in the student's marks.\n",
    "\n",
    "        Args:\n",
    "            subject (str): The name of the subject.\n",
    "            score (int): The score for the subject.\n",
    "        \"\"\"\n",
    "        if subject in self.marks:\n",
    "            print(f\"Updated {subject} = {score}\")\n",
    "        else:\n",
    "            print(f\"Added {subject} = {score}\")\n",
    "        self.marks[subject] = score\n",
    "\n",
    "    def display_marks(self):\n",
    "        \"\"\"Prints all subjects and their scores for the student.\"\"\"\n",
    "        print(\"Marks:\")\n",
    "        for subject, score in self.marks.items():\n",
    "            print(f\"\\t{subject}: {score}\")\n",
    "\n",
    "    def average(self):\n",
    "        \"\"\"Calculates and returns the average score of the student.\"\"\"\n",
    "        if not self.marks:\n",
    "            return 0\n",
    "        return sum(self.marks.values()) / len(self.marks)"
   ]
  },
  {
   "cell_type": "code",
   "execution_count": 4,
   "id": "0727900d",
   "metadata": {},
   "outputs": [
    {
     "name": "stdout",
     "output_type": "stream",
     "text": [
      "Name: Sairung, Age: 20\n",
      "---\n",
      "Added Math = 85\n",
      "Added Science = 90\n",
      "---\n",
      "Marks:\n",
      "\tMath: 85\n",
      "\tScience: 90\n",
      "---\n",
      "Average score: 87.50\n"
     ]
    }
   ],
   "source": [
    "student = Student(\"Sairung\", 20)\n",
    "student.display_info()\n",
    "print(\"---\")\n",
    "student.add_mark(\"Math\", 85)\n",
    "student.add_mark(\"Science\", 90)\n",
    "print(\"---\")\n",
    "student.display_marks()\n",
    "print(\"---\")\n",
    "print(f\"Average score: {student.average():.2f}\")"
   ]
  }
 ],
 "metadata": {
  "kernelspec": {
   "display_name": "Python 3",
   "language": "python",
   "name": "python3"
  },
  "language_info": {
   "codemirror_mode": {
    "name": "ipython",
    "version": 3
   },
   "file_extension": ".py",
   "mimetype": "text/x-python",
   "name": "python",
   "nbconvert_exporter": "python",
   "pygments_lexer": "ipython3",
   "version": "3.13.3"
  }
 },
 "nbformat": 4,
 "nbformat_minor": 5
}
