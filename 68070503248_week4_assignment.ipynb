{
 "cells": [
  {
   "cell_type": "markdown",
   "id": "759cfdcd",
   "metadata": {},
   "source": [
    "iterate for loop from number 1 to n: if the number is even, print \"[number] is even\" otherwise, print \" number is odd:\n",
    "if n = 5 ==> expected output 0 is even. 1 is odd. 2 is even. 3 is odd. 4 is even."
   ]
  },
  {
   "cell_type": "code",
   "execution_count": null,
   "id": "c3767cde",
   "metadata": {},
   "outputs": [],
   "source": [
    "n = 5\n",
    "for i in range(n):\n",
    "    if i % 2 == 0:\n",
    "        print(f\"{i} is even.\")\n",
    "    else:\n",
    "        print(f\"{i} is odd.\")"
   ]
  },
  {
   "cell_type": "markdown",
   "id": "1bbb0072",
   "metadata": {},
   "source": [
    "Division\n",
    "• define n = 100\n",
    "• Use loop fron 1 to 10 (the value of looping variable is 1 to 10)\n",
    "• if the result of quotient (number/i) is greater than 5 => print (\"The result is large\")\n",
    "• if the result of quotient (number/i) is exactly equal to 6 ==> skip the loop with continue\n",
    "• otherwise, print the actual quotient ==> print (\"quotient=\", quotient)"
   ]
  },
  {
   "cell_type": "code",
   "execution_count": null,
   "id": "918fc76b",
   "metadata": {},
   "outputs": [],
   "source": [
    "n = 100\n",
    "for i in range(1, 11):\n",
    "    quotient = n // i\n",
    "    if quotient > 5:\n",
    "        print(\"The result is large\")\n",
    "    elif quotient == 6:\n",
    "        continue\n",
    "    else:\n",
    "        print(\"quotient=\", quotient)"
   ]
  },
  {
   "cell_type": "markdown",
   "id": "306c21e2",
   "metadata": {},
   "source": [
    "Login Authentication\n",
    "• Create a dictonary named \"credentials\" with username as key and password as values.\n",
    "• Initialize the dictonary with three users: (username - user, password - abc123), (username - admin, password - adminpass, username - guest, password - guest123)\n",
    "• Ask the user to enter a username and password.\n",
    "• If the username exists and the password matches, print (\"Login successful\")\n",
    "• If the username exists but the password is wrong, print (\"Incorrect password\")\n",
    "• If the username does not exist, print \"User not found\"\n",
    "• Create a dictonary named \"credentials\" with username as key and password as values.\n",
    "• Initialize the dictonary with three users: (username - user, password - abc123), (username - admin, password - adminpass, username - guest, password - guest123)\n",
    "• Ask the user to enter a username and password.\n",
    "• If the username exists and the password matches, print (\"Login successful\")\n",
    "• If the username exists but the password is wrong, print (\"Incorrect password\")\n",
    "• If the username does not exist, print \"User not found\""
   ]
  },
  {
   "cell_type": "code",
   "execution_count": null,
   "id": "2949a86b",
   "metadata": {},
   "outputs": [],
   "source": [
    "credentials = {\n",
    "    \"user\": \"abc123\",\n",
    "    \"admin\": \"adminpass\",\n",
    "    \"guest\": \"guest123\"\n",
    "}\n",
    "\n",
    "username = input(\"Enter username: \")\n",
    "password = input(\"Enter password: \")\n",
    "\n",
    "if username in credentials:\n",
    "    if credentials[username] == password:\n",
    "        print(\"Login successful\")\n",
    "    else:\n",
    "        print(\"Incorrect password\")\n",
    "else:\n",
    "    print(\"User not found\")"
   ]
  },
  {
   "cell_type": "markdown",
   "id": "0d070313",
   "metadata": {},
   "source": [
    "Incorrect password"
   ]
  },
  {
   "cell_type": "code",
   "execution_count": null,
   "id": "aa850c5d",
   "metadata": {},
   "outputs": [],
   "source": [
    "start = 5\n",
    "rows = 5\n",
    "for i in range(1 , rows+1):\n",
    "    for j in range(i):\n",
    "        print(\"*\", end=\" \")\n",
    "        print() # Newline"
   ]
  },
  {
   "cell_type": "markdown",
   "id": "48e2363d",
   "metadata": {},
   "source": [
    "Shopping Cart Checkout\n",
    "Use initial variable total_bill=0 Ask user to add price and add the price to total_bill If total_bill> 1000, print (\"limit reached. You cannot buy anymore\" and break the loop) Otherwise, ask user to add price"
   ]
  },
  {
   "cell_type": "code",
   "execution_count": null,
   "id": "1c9577a1",
   "metadata": {},
   "outputs": [],
   "source": [
    "total_bill = 0\n",
    "while True:\n",
    "    price = float(input(\"Add price: \"))\n",
    "    total_bill += price\n",
    "    if total_bill > 1000:\n",
    "        print(\"limit reached. You cannot buy anymore\")\n",
    "        break\n",
    "    else:\n",
    "        print(f\"Current total bill: {total_bill}\")"
   ]
  }
 ],
 "metadata": {
  "language_info": {
   "name": "python"
  }
 },
 "nbformat": 4,
 "nbformat_minor": 5
}
